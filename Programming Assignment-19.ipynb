{
 "cells": [
  {
   "cell_type": "markdown",
   "id": "c9153798",
   "metadata": {},
   "source": [
    "### 1.Create a function that takes a string and returns a string in which each character is repeated once.\n",
    "Examples:\n",
    "double_char(\"String\") ➞ \"SSttrriinngg\"\n",
    "double_char(\"Hello World!\") ➞ \"HHeelllloo WWoorrlldd!!\"\n",
    "doublechar(\"1234!_\") ➞ \"11223344!!__\" "
   ]
  },
  {
   "cell_type": "code",
   "execution_count": 3,
   "id": "4f351f9b",
   "metadata": {},
   "outputs": [
    {
     "name": "stdout",
     "output_type": "stream",
     "text": [
      "Enter a string:-String\n",
      "The output of String is SSttrriinngg\n",
      "Enter a string:-Hello World\n",
      "The output of Hello World is HHeelllloo  WWoorrlldd\n",
      "Enter a string:-1234!_\n",
      "The output of 1234!_ is 11223344!!__\n"
     ]
    }
   ],
   "source": [
    "#Solution:-\n",
    "\n",
    "def str_function():\n",
    "    inp_str = input(\"Enter a string:-\")\n",
    "    out_str = ''\n",
    "    for char in inp_str:\n",
    "        out_str = out_str + char*2\n",
    "    print(f'The output of {inp_str} is {out_str}')\n",
    "for i in range(3):\n",
    "    str_function()\n",
    "        "
   ]
  },
  {
   "cell_type": "markdown",
   "id": "4a6887e6",
   "metadata": {},
   "source": [
    "### 2.Create a function that reverses a boolean value and returns the string \"boolean expected\" if another variable type is given.\n",
    "Examples:\n",
    "reverse(True) ➞ False\n",
    "reverse(False) ➞ True\n",
    "reverse(0) ➞ \"boolean expected\"\n",
    "reverse(None) ➞ \"boolean expected\" "
   ]
  },
  {
   "cell_type": "code",
   "execution_count": 6,
   "id": "ca0e75eb",
   "metadata": {},
   "outputs": [
    {
     "name": "stdout",
     "output_type": "stream",
     "text": [
      "rev_boolean(True) --> False\n",
      "rev_boolean(False) --> True\n",
      "rev_boolean(0) --> boolean expected\n",
      "rev_boolean(None) --> boolean expected\n"
     ]
    }
   ],
   "source": [
    "#Solution:-\n",
    "\n",
    "def rev_boolean(inp_bool):\n",
    "    if type(inp_bool) == bool:\n",
    "        return not inp_bool\n",
    "    else:\n",
    "        return(\"boolean expected\")\n",
    "print(f'rev_boolean(True) --> {rev_boolean(True)}') \n",
    "print(f'rev_boolean(False) --> {rev_boolean(False)}')\n",
    "print(f'rev_boolean(0) --> {rev_boolean(0)}')\n",
    "print(f'rev_boolean(None) --> {rev_boolean(None)}') "
   ]
  },
  {
   "cell_type": "markdown",
   "id": "730284f7",
   "metadata": {},
   "source": [
    "### 3. Create a function that returns the thickness (in meters) of a piece of paper after folding it n number of times. The paper starts off with a thickness of 0.5mm.\n",
    "Examples:\n",
    "num_layers(1) ➞ \"0.001m\" # Paper folded once is 1mm (equal to 0.001m) num_layers(4) ➞ \"0.008m\" # Paper folded 4 times is 8mm (equal to 0.008m) num_layers(21) ➞ \"1048.576m\" # Paper folded 21 times is 1048576mm (equal to 1048.576m)"
   ]
  },
  {
   "cell_type": "code",
   "execution_count": 7,
   "id": "64f54911",
   "metadata": {},
   "outputs": [
    {
     "name": "stdout",
     "output_type": "stream",
     "text": [
      "Enter a number:-1\n",
      "The thickness of 1 is 0.001m\n",
      "Enter a number:-4\n",
      "The thickness of 4 is 0.008m\n",
      "Enter a number:-21\n",
      "The thickness of 21 is 1048.576m\n"
     ]
    }
   ],
   "source": [
    "#Solution:-\n",
    "\n",
    "def thickness():\n",
    "    fold_num = int(input(\"Enter a number:-\"))\n",
    "    output_thic = 0.5\n",
    "    for num in range(fold_num):\n",
    "        output_thic *= 2\n",
    "    print(f'The thickness of {fold_num} is {output_thic/1000}m')   \n",
    "for i in range(3):\n",
    "    thickness()"
   ]
  },
  {
   "cell_type": "markdown",
   "id": "dd31555b",
   "metadata": {},
   "source": [
    "### 4.Create a function that takes a single string as argument and returns an ordered list containing the indices of all capital letters in the string.\n",
    "Examples:\n",
    "index_of_caps(\"eDaBiT\") ➞ [1, 3, 5]\n",
    "index_of_caps(\"eQuINoX\") ➞ [1, 3, 4, 6]\n",
    "index_of_caps(\"determine\") ➞ []\n",
    "index_of_caps(\"STRIKE\") ➞ [0, 1, 2, 3, 4, 5]\n",
    "index_of_caps(\"sUn\") ➞ [1] "
   ]
  },
  {
   "cell_type": "code",
   "execution_count": 10,
   "id": "a5a1c698",
   "metadata": {},
   "outputs": [
    {
     "name": "stdout",
     "output_type": "stream",
     "text": [
      "Enter a string:-eDaBiT\n",
      "The ordered list of eDaBiT which contain index of capital letters is [1, 3, 5]\n",
      "Enter a string:-eQuINoX\n",
      "The ordered list of eQuINoX which contain index of capital letters is [1, 3, 4, 6]\n",
      "Enter a string:-determine\n",
      "The ordered list of determine which contain index of capital letters is []\n",
      "Enter a string:-STRIKE\n",
      "The ordered list of STRIKE which contain index of capital letters is [0, 1, 2, 3, 4, 5]\n",
      "Enter a string:-sUn\n",
      "The ordered list of sUn which contain index of capital letters is [1]\n"
     ]
    }
   ],
   "source": [
    "#Solution:-\n",
    "\n",
    "def ord_list():\n",
    "    inp_1 = input(\"Enter a string:-\")\n",
    "    out_1 = []\n",
    "    for char in inp_1:\n",
    "        if char.isupper():\n",
    "            out_1.append(inp_1.index(char))\n",
    "    print(f'The ordered list of {inp_1} which contain index of capital letters is {out_1}') \n",
    "for i in range(5):\n",
    "    ord_list()"
   ]
  },
  {
   "cell_type": "markdown",
   "id": "7685585d",
   "metadata": {},
   "source": [
    "### 5.Using list comprehensions, create a function that finds all even numbers from 1 to the given number.\n",
    "Examples:\n",
    "find_even_nums(8) ➞ [2, 4, 6, 8]\n",
    "find_even_nums(4) ➞ [2, 4]\n",
    "find_even_nums(2) ➞ [2] "
   ]
  },
  {
   "cell_type": "code",
   "execution_count": 12,
   "id": "1ba421c0",
   "metadata": {},
   "outputs": [
    {
     "name": "stdout",
     "output_type": "stream",
     "text": [
      "Enter a number:-8\n",
      "The even number list of 8 is [2, 4, 6, 8]\n",
      "Enter a number:-4\n",
      "The even number list of 4 is [2, 4]\n",
      "Enter a number:-2\n",
      "The even number list of 2 is [2]\n"
     ]
    }
   ],
   "source": [
    "#Solution:-\n",
    "\n",
    "def even_num():\n",
    "    inp_num = int(input(\"Enter a number:-\"))\n",
    "    output_list = []\n",
    "    for ele in range(1,inp_num+1):\n",
    "        if ele%2 == 0:\n",
    "            output_list.append(ele)\n",
    "    print(f'The even number list of {inp_num} is {output_list}')\n",
    "\n",
    "for i in range(3):\n",
    "    even_num()\n",
    "    "
   ]
  }
 ],
 "metadata": {
  "kernelspec": {
   "display_name": "Python 3 (ipykernel)",
   "language": "python",
   "name": "python3"
  },
  "language_info": {
   "codemirror_mode": {
    "name": "ipython",
    "version": 3
   },
   "file_extension": ".py",
   "mimetype": "text/x-python",
   "name": "python",
   "nbconvert_exporter": "python",
   "pygments_lexer": "ipython3",
   "version": "3.10.9"
  }
 },
 "nbformat": 4,
 "nbformat_minor": 5
}
